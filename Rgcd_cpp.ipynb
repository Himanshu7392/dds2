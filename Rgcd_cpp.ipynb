{
  "nbformat": 4,
  "nbformat_minor": 0,
  "metadata": {
    "colab": {
      "provenance": [],
      "authorship_tag": "ABX9TyN2oJcLxC/EqCMOKilrWCXn",
      "include_colab_link": true
    },
    "kernelspec": {
      "name": "python3",
      "display_name": "Python 3"
    },
    "language_info": {
      "name": "python"
    }
  },
  "cells": [
    {
      "cell_type": "markdown",
      "metadata": {
        "id": "view-in-github",
        "colab_type": "text"
      },
      "source": [
        "<a href=\"https://colab.research.google.com/github/Himanshu7392/dds2/blob/main/Rgcd_cpp.ipynb\" target=\"_parent\"><img src=\"https://colab.research.google.com/assets/colab-badge.svg\" alt=\"Open In Colab\"/></a>"
      ]
    },
    {
      "cell_type": "code",
      "execution_count": 6,
      "metadata": {
        "colab": {
          "base_uri": "https://localhost:8080/"
        },
        "id": "jMQK31pyc2FE",
        "outputId": "bd94ef31-10e7-4c5f-da87-05a80a3743a1"
      },
      "outputs": [
        {
          "output_type": "stream",
          "name": "stdout",
          "text": [
            "Overwriting Rgcd.cpp\n"
          ]
        }
      ],
      "source": [
        "%%writefile Rgcd.cpp\n",
        "#include <iostream>\n",
        "using namespace std;\n",
        "\n",
        "// Recursive function to find GCD\n",
        "int gcd(int a, int b) {\n",
        "    if (b == 0)\n",
        "        return a;\n",
        "    return gcd(b, a % b);\n",
        "}\n",
        "\n",
        "int main() {\n",
        "    int a, b;\n",
        "    cout << \"Enter two numbers: \";\n",
        "    cin >> a >> b;\n",
        "    cout << \"GCD of \" << a << \" and \" << b << \" is \" << gcd(a, b) << endl;\n",
        "    return 0;\n",
        "}"
      ]
    },
    {
      "cell_type": "code",
      "source": [
        "!g++ Rgcd.cpp"
      ],
      "metadata": {
        "id": "2OjCe2q4c3lM"
      },
      "execution_count": 7,
      "outputs": []
    },
    {
      "cell_type": "code",
      "source": [
        "!./a.out"
      ],
      "metadata": {
        "colab": {
          "base_uri": "https://localhost:8080/"
        },
        "id": "JolA4KNyc39E",
        "outputId": "d286786a-23a6-4923-dace-12262107ff14"
      },
      "execution_count": 8,
      "outputs": [
        {
          "output_type": "stream",
          "name": "stdout",
          "text": [
            "Enter two numbers: 48 12\n",
            "GCD of 48 and 12 is 12\n"
          ]
        }
      ]
    }
  ]
}