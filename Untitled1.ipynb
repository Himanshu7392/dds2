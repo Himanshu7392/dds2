{
  "nbformat": 4,
  "nbformat_minor": 0,
  "metadata": {
    "colab": {
      "provenance": [],
      "authorship_tag": "ABX9TyOZzkpk7vvqfgyTO1YIyljd",
      "include_colab_link": true
    },
    "kernelspec": {
      "name": "python3",
      "display_name": "Python 3"
    },
    "language_info": {
      "name": "python"
    }
  },
  "cells": [
    {
      "cell_type": "markdown",
      "metadata": {
        "id": "view-in-github",
        "colab_type": "text"
      },
      "source": [
        "<a href=\"https://colab.research.google.com/github/Himanshu7392/dds2/blob/main/Untitled1.ipynb\" target=\"_parent\"><img src=\"https://colab.research.google.com/assets/colab-badge.svg\" alt=\"Open In Colab\"/></a>"
      ]
    },
    {
      "cell_type": "code",
      "execution_count": 6,
      "metadata": {
        "colab": {
          "base_uri": "https://localhost:8080/"
        },
        "id": "42f8tPzYZbL2",
        "outputId": "edb6d24c-336e-46d1-e855-229d12811706"
      },
      "outputs": [
        {
          "output_type": "stream",
          "name": "stdout",
          "text": [
            "Overwriting lab4_hanoi.cpp\n"
          ]
        }
      ],
      "source": [
        "%%writefile lab4_hanoi.cpp\n",
        "#include <iostream>\n",
        "using namespace std;\n",
        "\n",
        "void hanoi(int n, char source, char destination, char auxiliary){\n",
        "    if (n==1) {\n",
        "        cout << \"Move disk 1 from rod \" << source << \" to rod \" << destination << endl;\n",
        "        return;\n",
        "    }\n",
        "    hanoi(n-1, source, auxiliary, destination);\n",
        "    cout << \"Move disk\" << n << \"from\" << source << \"to\" << destination << endl;\n",
        "    hanoi(n-1, auxiliary, destination, source);\n",
        "}\n",
        "\n",
        "int main() {\n",
        "    int n =5;\n",
        "    cout <<\"Tower of Hanoi (C++) - Steps for\" << n << \"disks:\" << endl << endl;\n",
        "    hanoi(n, 'A', 'C', 'B');\n",
        "    return 0;\n",
        "}"
      ]
    },
    {
      "cell_type": "code",
      "source": [
        "!g++ lab4_hanoi.cpp"
      ],
      "metadata": {
        "id": "zgHa1oMgbYsb"
      },
      "execution_count": 7,
      "outputs": []
    },
    {
      "cell_type": "code",
      "source": [
        "!./a.out"
      ],
      "metadata": {
        "colab": {
          "base_uri": "https://localhost:8080/"
        },
        "id": "KkvF2tL3dPf6",
        "outputId": "42dd1fca-7e48-4106-dfd9-eca1cf970e42"
      },
      "execution_count": 8,
      "outputs": [
        {
          "output_type": "stream",
          "name": "stdout",
          "text": [
            "Tower of Hanoi (C++) - Steps for5disks:\n",
            "\n",
            "Move disk 1 from rod A to rod C\n",
            "Move disk2fromAtoB\n",
            "Move disk 1 from rod C to rod B\n",
            "Move disk3fromAtoC\n",
            "Move disk 1 from rod B to rod A\n",
            "Move disk2fromBtoC\n",
            "Move disk 1 from rod A to rod C\n",
            "Move disk4fromAtoB\n",
            "Move disk 1 from rod C to rod B\n",
            "Move disk2fromCtoA\n",
            "Move disk 1 from rod B to rod A\n",
            "Move disk3fromCtoB\n",
            "Move disk 1 from rod A to rod C\n",
            "Move disk2fromAtoB\n",
            "Move disk 1 from rod C to rod B\n",
            "Move disk5fromAtoC\n",
            "Move disk 1 from rod B to rod A\n",
            "Move disk2fromBtoC\n",
            "Move disk 1 from rod A to rod C\n",
            "Move disk3fromBtoA\n",
            "Move disk 1 from rod C to rod B\n",
            "Move disk2fromCtoA\n",
            "Move disk 1 from rod B to rod A\n",
            "Move disk4fromBtoC\n",
            "Move disk 1 from rod A to rod C\n",
            "Move disk2fromAtoB\n",
            "Move disk 1 from rod C to rod B\n",
            "Move disk3fromAtoC\n",
            "Move disk 1 from rod B to rod A\n",
            "Move disk2fromBtoC\n",
            "Move disk 1 from rod A to rod C\n"
          ]
        }
      ]
    }
  ]
}