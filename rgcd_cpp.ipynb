{
  "nbformat": 4,
  "nbformat_minor": 0,
  "metadata": {
    "colab": {
      "provenance": [],
      "authorship_tag": "ABX9TyPR2w1PXOrSdTI6iTBm6MvA",
      "include_colab_link": true
    },
    "kernelspec": {
      "name": "python3",
      "display_name": "Python 3"
    },
    "language_info": {
      "name": "python"
    }
  },
  "cells": [
    {
      "cell_type": "markdown",
      "metadata": {
        "id": "view-in-github",
        "colab_type": "text"
      },
      "source": [
        "<a href=\"https://colab.research.google.com/github/Himanshu7392/dds2/blob/main/rgcd_cpp.ipynb\" target=\"_parent\"><img src=\"https://colab.research.google.com/assets/colab-badge.svg\" alt=\"Open In Colab\"/></a>"
      ]
    },
    {
      "cell_type": "code",
      "execution_count": null,
      "metadata": {
        "colab": {
          "base_uri": "https://localhost:8080/"
        },
        "id": "jMQK31pyc2FE",
        "outputId": "bd94ef31-10e7-4c5f-da87-05a80a3743a1"
      },
      "outputs": [
        {
          "output_type": "stream",
          "name": "stdout",
          "text": [
            "Overwriting Rgcd.cpp\n"
          ]
        }
      ],
      "source": [
        "%%writefile Rgcd.cpp\n",
        "#include <iostream>\n",
        "using namespace std;\n",
        "\n",
        "// Recursive function to find GCD\n",
        "int gcd(int a, int b) {\n",
        "    if (b == 0)\n",
        "        return a;\n",
        "    return gcd(b, a % b);\n",
        "}\n",
        "\n",
        "int main() {\n",
        "    int a, b;\n",
        "    cout << \"Enter two numbers: \";\n",
        "    cin >> a >> b;\n",
        "    cout << \"GCD of \" << a << \" and \" << b << \" is \" << gcd(a, b) << endl;\n",
        "    return 0;\n",
        "}"
      ]
    },
    {
      "cell_type": "code",
      "source": [
        "!g++ Rgcd.cpp"
      ],
      "metadata": {
        "id": "2OjCe2q4c3lM"
      },
      "execution_count": null,
      "outputs": []
    },
    {
      "cell_type": "code",
      "source": [
        "!./a.out"
      ],
      "metadata": {
        "colab": {
          "base_uri": "https://localhost:8080/"
        },
        "id": "JolA4KNyc39E",
        "outputId": "d286786a-23a6-4923-dace-12262107ff14"
      },
      "execution_count": null,
      "outputs": [
        {
          "output_type": "stream",
          "name": "stdout",
          "text": [
            "Enter two numbers: 48 12\n",
            "GCD of 48 and 12 is 12\n"
          ]
        }
      ]
    },
    {
      "cell_type": "code",
      "source": [
        "%%writefile Hema.cpp\n",
        "\n",
        "#include <iostream>\n",
        "#include <stack>\n",
        "#include <cctype>\n",
        "using namespace std;\n",
        "\n",
        "int Hema(string expr) {\n",
        "    stack<int> st;\n",
        "\n",
        "    for (char ch : expr) {\n",
        "      if (isdigit(ch)) {\n",
        "        st.push(ch - '0');\n",
        "      } else {\n",
        "        int b = st.top(); st.pop();\n",
        "        int a = st.top(); st.pop();\n",
        "\n",
        "        switch (ch) {\n",
        "          case '+': st.push(a + b); break;\n",
        "          case '-': st.push(a - b); break;\n",
        "          case '*': st.push(a * b); break;\n",
        "          case '/': st.push(a / b); break;\n",
        "        }\n",
        "    }\n",
        "  }\n",
        "  return st.top();\n",
        "}\n",
        "\n",
        "int main() {\n",
        "    string expr = \"53+62/*\";\n",
        "    cout << \"Postfix Expression: \" << expr << endl;\n",
        "    cout << \"Evaluated Result  : \" << Hema(expr) << endl;\n",
        "    return 0;\n",
        "}\n"
      ],
      "metadata": {
        "colab": {
          "base_uri": "https://localhost:8080/"
        },
        "id": "3gNUXDbGiv6L",
        "outputId": "2ef34de2-313d-4baf-bc63-4b0d853c4230"
      },
      "execution_count": null,
      "outputs": [
        {
          "output_type": "stream",
          "name": "stdout",
          "text": [
            "Overwriting Hema.cpp\n"
          ]
        }
      ]
    },
    {
      "cell_type": "code",
      "source": [
        "!g++ Hema.cpp"
      ],
      "metadata": {
        "id": "pK-Q3JCCiwY7"
      },
      "execution_count": null,
      "outputs": []
    },
    {
      "cell_type": "code",
      "source": [
        "!./a.out"
      ],
      "metadata": {
        "colab": {
          "base_uri": "https://localhost:8080/"
        },
        "id": "I3zt1PBGiwqb",
        "outputId": "3b732019-0421-4b10-8c9c-9b5a2029be0c"
      },
      "execution_count": null,
      "outputs": [
        {
          "output_type": "stream",
          "name": "stdout",
          "text": [
            "Postfix Expression: 53+62/*\n",
            "Evaluated Result  : 24\n"
          ]
        }
      ]
    }
  ]
}